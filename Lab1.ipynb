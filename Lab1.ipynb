{
  "cells": [
    {
      "cell_type": "markdown",
      "metadata": {
        "id": "view-in-github",
        "colab_type": "text"
      },
      "source": [
        "<a href=\"https://colab.research.google.com/github/wyatthf/PHYS434Lab1/blob/main/Lab1.ipynb\" target=\"_parent\"><img src=\"https://colab.research.google.com/assets/colab-badge.svg\" alt=\"Open In Colab\"/></a>"
      ]
    },
    {
      "cell_type": "markdown",
      "id": "a51ecdf5-ab8b-4e70-b8f0-44ba35033d50",
      "metadata": {
        "tags": [],
        "id": "a51ecdf5-ab8b-4e70-b8f0-44ba35033d50"
      },
      "source": [
        "# Lab 1\n"
      ]
    },
    {
      "cell_type": "markdown",
      "id": "f07e5e3a-7b36-4846-913b-63a8aa4b6df6",
      "metadata": {
        "id": "f07e5e3a-7b36-4846-913b-63a8aa4b6df6"
      },
      "source": [
        "## 1-2. Downloading Data set and selecting features to study"
      ]
    },
    {
      "cell_type": "code",
      "execution_count": null,
      "id": "983b52eb-c061-40ea-af76-2c14519af641",
      "metadata": {
        "id": "983b52eb-c061-40ea-af76-2c14519af641"
      },
      "outputs": [],
      "source": [
        "import pandas as pd\n",
        "import numpy as np\n",
        "from matplotlib import pyplot as plt\n",
        "plt.style.use('seaborn-deep')"
      ]
    },
    {
      "cell_type": "code",
      "execution_count": null,
      "id": "9685ee4c-2f38-4169-952c-07bb9a8dc829",
      "metadata": {
        "id": "9685ee4c-2f38-4169-952c-07bb9a8dc829"
      },
      "outputs": [],
      "source": [
        "# Getting data from file\n",
        "df = pd.read_csv('HTRU_2.csv')\n",
        "# I will be studying the profile attributes\n",
        "profMean = df['profMean']\n",
        "profSTD = df['profSTD']\n",
        "profKurt = df['profKurt']\n",
        "profSkew = df['profSkew']\n",
        "pulsarClass = df['class']"
      ]
    },
    {
      "cell_type": "code",
      "execution_count": null,
      "id": "44386e06-c4d2-4737-9b14-fabdb8a6718f",
      "metadata": {
        "id": "44386e06-c4d2-4737-9b14-fabdb8a6718f"
      },
      "outputs": [],
      "source": [
        "# Sorting data into the two classes\n",
        "realMean = []\n",
        "realSTD = []\n",
        "realKurt = []\n",
        "realSkew = []\n",
        "realPulsar = 0\n",
        "\n",
        "falseMean = []\n",
        "falseSTD = []\n",
        "falseKurt = []\n",
        "falseSkew = []\n",
        "falsePulsar = 0\n",
        "\n",
        "\n",
        "for i in range(len(pulsarClass)):\n",
        "    if pulsarClass[i] == 1:\n",
        "        realMean.append(profMean[i])\n",
        "        realSTD.append(profSTD[i])\n",
        "        realKurt.append(profKurt[i])\n",
        "        realSkew.append(profSkew[i])\n",
        "        realPulsar += 1\n",
        "    else:\n",
        "        falseMean.append(profMean[i])\n",
        "        falseSTD.append(profSTD[i])\n",
        "        falseKurt.append(profKurt[i])\n",
        "        falseSkew.append(profSkew[i])\n",
        "        falsePulsar += 1\n",
        "        "
      ]
    },
    {
      "cell_type": "markdown",
      "id": "32192f29-aa65-4136-af1f-b64e0a25e6ec",
      "metadata": {
        "id": "32192f29-aa65-4136-af1f-b64e0a25e6ec"
      },
      "source": [
        "## 3. Comparing shape of each feature between the two classes"
      ]
    },
    {
      "cell_type": "code",
      "execution_count": null,
      "id": "fe9a71bd-f59c-4e44-abd9-1a55bbcde95c",
      "metadata": {
        "id": "fe9a71bd-f59c-4e44-abd9-1a55bbcde95c",
        "outputId": "36060488-09be-4041-fa3f-45e8ea35fd52"
      },
      "outputs": [
        {
          "data": {
            "image/png": "[encoded data removed]",
            "text/plain": [
              "<Figure size 720x504 with 1 Axes>"
            ]
          },
          "metadata": {
            "needs_background": "light"
          },
          "output_type": "display_data"
        }
      ],
      "source": [
        "# Creating means histogram\n",
        "\n",
        "# Finding max range\n",
        "maxMean = 0\n",
        "realMax = max(realMean)\n",
        "falseMax = max(falseMean)\n",
        "if realMax <= falseMax:\n",
        "    maxMean = falseMax\n",
        "else:\n",
        "    maxMean = realMax\n",
        "\n",
        "bins = np.arange(0, maxMean, 10)\n",
        "fig, ax = plt.subplots(figsize =(10, 7))\n",
        "ax.hist(realMean, bins, alpha = 1, density = True, edgecolor='blue', label=['Real'])\n",
        "ax.hist(falseMean, bins, alpha = 0.7, density = True, edgecolor='red', label=['False'])\n",
        "plt.legend(loc='upper right')\n",
        "plt.title(\"Means of the integrated profiles\")\n",
        "plt.xlabel(\"Profile Mean\")\n",
        "plt.ylabel(\"Bin Width = 10\")\n",
        "\n",
        "# Show plot\n",
        "plt.show()"
      ]
    },
    {
      "cell_type": "code",
      "execution_count": null,
      "id": "7edd9456-f9e3-4f78-9825-a753d39bfa7a",
      "metadata": {
        "id": "7edd9456-f9e3-4f78-9825-a753d39bfa7a",
        "outputId": "3278deb5-d046-49b7-9e2c-25ef48ae7f2a"
      },
      "outputs": [
        {
          "data": {
            "image/png": "[encoded data removed]",
            "text/plain": [
              "<Figure size 720x504 with 1 Axes>"
            ]
          },
          "metadata": {
            "needs_background": "light"
          },
          "output_type": "display_data"
        }
      ],
      "source": [
        "# Creating Standard Deviation histogram\n",
        "# Finding max range\n",
        "maxSTD = 0\n",
        "realMax = max(realSTD)\n",
        "falseMax = max(falseSTD)\n",
        "if realMax <= falseMax:\n",
        "    maxSTD = falseMax\n",
        "else:\n",
        "    maxSTD = realMax\n",
        "\n",
        "bins = np.arange(0, maxSTD, 5)\n",
        "fig, ax = plt.subplots(figsize =(10, 7))\n",
        "ax.hist(realSTD, bins, alpha = 1, density = True, edgecolor='blue', label=['Real'])\n",
        "ax.hist(falseSTD, bins, alpha = 0.7, density = True, edgecolor='red',label=['False'])\n",
        "plt.legend(loc='upper right')\n",
        "plt.title(\"Standard Deviations of the integrated profiles\")\n",
        "plt.xlabel(\"Profile Standard Deviation\")\n",
        "plt.ylabel(\"Bin Width = 5\")\n",
        "\n",
        "# Show plot\n",
        "plt.show()"
      ]
    },
    {
      "cell_type": "code",
      "execution_count": null,
      "id": "050b2ff1-310e-41b1-bf3f-8dfdb5ee2b13",
      "metadata": {
        "id": "050b2ff1-310e-41b1-bf3f-8dfdb5ee2b13",
        "outputId": "4a92fb2a-a331-4249-d082-4075aae55687"
      },
      "outputs": [
        {
          "data": {
            "image/png": "[encoded data removed]",
            "text/plain": [
              "<Figure size 720x504 with 1 Axes>"
            ]
          },
          "metadata": {
            "needs_background": "light"
          },
          "output_type": "display_data"
        }
      ],
      "source": [
        "# Creating Kurts histogram\n",
        "# Finding max range\n",
        "\n",
        "\n",
        "bins = np.arange(-2, 9, 0.5)\n",
        "fig, ax = plt.subplots(figsize =(10, 7))\n",
        "ax.hist(realKurt, bins, alpha = 1, density = True, edgecolor='blue', label='Real')\n",
        "ax.hist(falseKurt, bins, alpha = 0.7, density = True, edgecolor='red', label='False')\n",
        "plt.legend(loc='upper right')\n",
        "plt.title(\"Kurtosis of the integrated profiles\")\n",
        "plt.xlabel(\"Profile Kurtosis\")\n",
        "plt.ylabel(\"Bin Width = 0.5\")\n",
        "\n",
        "# Show plot\n",
        "plt.show()"
      ]
    },
    {
      "cell_type": "code",
      "execution_count": null,
      "id": "713cd3c7-50bd-4c78-a058-f179d998bee8",
      "metadata": {
        "id": "713cd3c7-50bd-4c78-a058-f179d998bee8",
        "outputId": "de4aea49-ad4a-4c20-ba44-11398cbef734"
      },
      "outputs": [
        {
          "data": {
            "image/png": "[encoded data removed]",
            "text/plain": [
              "<Figure size 720x504 with 1 Axes>"
            ]
          },
          "metadata": {
            "needs_background": "light"
          },
          "output_type": "display_data"
        }
      ],
      "source": [
        "# Creating skew histogram\n",
        "bins = np.arange(-2,1,0.15)\n",
        "fig, ax = plt.subplots(figsize =(10, 7))\n",
        "ax.hist(realSkew, bins, alpha = 1, density = True, edgecolor='blue', label=['Real'])\n",
        "ax.hist(falseSkew, bins, alpha = 0.7, density = True, edgecolor='red', label=['False'])\n",
        "plt.legend(loc='upper right')\n",
        "plt.title(\"Skews of the integrated profiles\")\n",
        "plt.xlabel(\"Profile Skew\")\n",
        "plt.ylabel(\"Bin Width = 0.15\")\n",
        "\n",
        "# Show plot\n",
        "plt.show()"
      ]
    },
    {
      "cell_type": "markdown",
      "id": "bc6be7f0-b3bf-4a3b-b029-eb466d56cd5a",
      "metadata": {
        "id": "bc6be7f0-b3bf-4a3b-b029-eb466d56cd5a"
      },
      "source": [
        "## 4. Probabilities\n"
      ]
    },
    {
      "cell_type": "markdown",
      "id": "f928d8aa-1ac4-4601-bb81-8436f0eb137f",
      "metadata": {
        "id": "f928d8aa-1ac4-4601-bb81-8436f0eb137f"
      },
      "source": [
        "### Probability that an observation is a pulsar candidate, P(A). In other words, if an observation from the HTRU dataset is chosen at random, what is the probability that it is a real pulsar?\n"
      ]
    },
    {
      "cell_type": "code",
      "execution_count": null,
      "id": "db1deebd-7258-44d5-9d84-031c37953143",
      "metadata": {
        "id": "db1deebd-7258-44d5-9d84-031c37953143",
        "outputId": "40f256a0-4a1d-4144-a327-48fdf1193fda"
      },
      "outputs": [
        {
          "data": {
            "text/plain": [
              "17898"
            ]
          },
          "execution_count": 42,
          "metadata": {},
          "output_type": "execute_result"
        }
      ],
      "source": [
        "totalObservations = len(pulsarClass)\n",
        "totalObservations"
      ]
    },
    {
      "cell_type": "code",
      "execution_count": null,
      "id": "43e1be6f-f11f-4cf4-a0dd-ab5fd127cdce",
      "metadata": {
        "id": "43e1be6f-f11f-4cf4-a0dd-ab5fd127cdce",
        "outputId": "902bc86b-2ce3-40f5-8fa2-6ab0c26f66bc"
      },
      "outputs": [
        {
          "data": {
            "text/plain": [
              "1639"
            ]
          },
          "execution_count": 43,
          "metadata": {},
          "output_type": "execute_result"
        }
      ],
      "source": [
        "realPulsar"
      ]
    },
    {
      "cell_type": "code",
      "execution_count": null,
      "id": "aa79c296-c43a-4dde-9cce-c5aeb2035b2e",
      "metadata": {
        "id": "aa79c296-c43a-4dde-9cce-c5aeb2035b2e",
        "outputId": "905d27c8-bb7e-42cc-b32c-7d02538c8e6e"
      },
      "outputs": [
        {
          "name": "stdout",
          "output_type": "stream",
          "text": [
            "Probability that an observation is a pulsar candidate is 0.09157447759526204 or 9.157447759526203%\n"
          ]
        }
      ],
      "source": [
        "candidateProb = realPulsar/totalObservations\n",
        "print('Probability that an observation is a pulsar candidate is ' + str(candidateProb) + ' or ' + str(candidateProb*100) + '%')"
      ]
    },
    {
      "cell_type": "markdown",
      "id": "dc9220f3-5d25-4c69-bf06-0aabce83fe2d",
      "metadata": {
        "id": "dc9220f3-5d25-4c69-bf06-0aabce83fe2d"
      },
      "source": [
        "### Probability than an observation with Mean of the integrated profile < 80, P(B)."
      ]
    },
    {
      "cell_type": "code",
      "execution_count": null,
      "id": "65416921-60cc-42af-ac15-e83624eb6afe",
      "metadata": {
        "id": "65416921-60cc-42af-ac15-e83624eb6afe",
        "outputId": "970e9161-13f0-402a-ddd9-13b177c6951d"
      },
      "outputs": [
        {
          "name": "stdout",
          "output_type": "stream",
          "text": [
            "Probability that an observation has a mean of the integrated profile < 80 is 0.08626662196893507 or 8.626662196893507%\n"
          ]
        }
      ],
      "source": [
        "inRange = 0\n",
        "for i in range(totalObservations):\n",
        "    if profMean[i] < 80:\n",
        "        inRange += 1\n",
        "lowMeanProb = inRange/totalObservations\n",
        "print('Probability that an observation has a mean of the integrated profile < 80 is ' + str(lowMeanProb) + ' or ' + str((lowMeanProb)*100) + '%')"
      ]
    },
    {
      "cell_type": "markdown",
      "id": "1b468d3d-a20b-4484-8937-6645145efa4c",
      "metadata": {
        "id": "1b468d3d-a20b-4484-8937-6645145efa4c"
      },
      "source": [
        "### Probability that an observation satisfies both conditions, P(A ⋂ B)."
      ]
    },
    {
      "cell_type": "code",
      "execution_count": null,
      "id": "953674d3-85e4-43cf-aa05-1b24582395c0",
      "metadata": {
        "id": "953674d3-85e4-43cf-aa05-1b24582395c0",
        "outputId": "166334a0-494e-43db-8dd4-89f7030dfb75"
      },
      "outputs": [
        {
          "name": "stdout",
          "output_type": "stream",
          "text": [
            "Probability that an observation satisfies both conditions is 0.06900212314225053 or 6.900212314225053%\n"
          ]
        }
      ],
      "source": [
        "success = 0\n",
        "for i in range(totalObservations):\n",
        "    if profMean[i] < 80 and pulsarClass[i] == 1:\n",
        "        success += 1\n",
        "bothProb = success/totalObservations\n",
        "\n",
        "print('Probability that an observation satisfies both conditions is ' + str(bothProb) + ' or ' + str(bothProb*100) + '%')"
      ]
    },
    {
      "cell_type": "markdown",
      "id": "a783442c-4045-4f51-8d98-b5b23ed4b044",
      "metadata": {
        "id": "a783442c-4045-4f51-8d98-b5b23ed4b044"
      },
      "source": [
        "## 5. Compute following conditional probabilities using Bayes' theorem."
      ]
    },
    {
      "cell_type": "markdown",
      "id": "3c21d0b0-fd40-4670-9acb-03f8b102e8c7",
      "metadata": {
        "id": "3c21d0b0-fd40-4670-9acb-03f8b102e8c7"
      },
      "source": [
        "### For an obersvation with mean of the integrated profile < 80, what is the probability that it is a pulsar candidate?"
      ]
    },
    {
      "cell_type": "code",
      "execution_count": null,
      "id": "74227be7-3fec-4055-9272-105ef24c79ff",
      "metadata": {
        "id": "74227be7-3fec-4055-9272-105ef24c79ff",
        "outputId": "6c78dde0-3f2b-4ee5-9344-75470f02385a"
      },
      "outputs": [
        {
          "name": "stdout",
          "output_type": "stream",
          "text": [
            "P{Candidate|Low Mean} = P{Candidate ⋂ Low Mean} / P{Low Mean}\n",
            "Probability is 0.7998704663212436\n"
          ]
        }
      ],
      "source": [
        "candidateMeanProb = bothProb/lowMeanProb\n",
        "print('P{Candidate|Low Mean} = P{Candidate ⋂ Low Mean} / P{Low Mean}')\n",
        "print(\"Probability is \" + str(candidateMeanProb))"
      ]
    },
    {
      "cell_type": "markdown",
      "id": "4ecb8fd2-bf64-42d7-946b-c516d97185e4",
      "metadata": {
        "id": "4ecb8fd2-bf64-42d7-946b-c516d97185e4"
      },
      "source": [
        "### For a pulsar candidate, what is the probability that its Mean of the integrated profile < 80?"
      ]
    },
    {
      "cell_type": "code",
      "execution_count": null,
      "id": "45647039-3ac3-467b-9469-1891aaf43d30",
      "metadata": {
        "id": "45647039-3ac3-467b-9469-1891aaf43d30",
        "outputId": "8eb0187e-5790-4906-b417-114f293456d3"
      },
      "outputs": [
        {
          "name": "stdout",
          "output_type": "stream",
          "text": [
            "P{Low Mean|Candidate} = P{Candidate ⋂ Low Mean} / P{Candidate}\n",
            "Probability is 0.7535082367297132\n"
          ]
        }
      ],
      "source": [
        "meanCandidateProb = bothProb/candidateProb\n",
        "print('P{Low Mean|Candidate} = P{Candidate ⋂ Low Mean} / P{Candidate}')\n",
        "print(\"Probability is \" + str(meanCandidateProb))"
      ]
    },
    {
      "cell_type": "markdown",
      "id": "d7e40628-e837-4d3c-b132-59e19277dffd",
      "metadata": {
        "id": "d7e40628-e837-4d3c-b132-59e19277dffd"
      },
      "source": [
        "## Cumulative probability for varying Z"
      ]
    },
    {
      "cell_type": "code",
      "execution_count": null,
      "id": "97558d50-586d-4e58-b66d-4dd3503021a7",
      "metadata": {
        "id": "97558d50-586d-4e58-b66d-4dd3503021a7"
      },
      "outputs": [],
      "source": [
        "from scipy.stats import norm"
      ]
    },
    {
      "cell_type": "markdown",
      "id": "77f3811f-77b7-4354-9854-0837d5fbe76c",
      "metadata": {
        "id": "77f3811f-77b7-4354-9854-0837d5fbe76c"
      },
      "source": [
        "### Calculate cumulative probabaility from mean for Z = 1, 3 and 5."
      ]
    },
    {
      "cell_type": "code",
      "execution_count": null,
      "id": "e8aeb556-31c0-406c-a8df-8fc7269b032f",
      "metadata": {
        "id": "e8aeb556-31c0-406c-a8df-8fc7269b032f",
        "outputId": "de9b73b1-eb7d-437a-d65d-086aadc914ea"
      },
      "outputs": [
        {
          "data": {
            "text/plain": [
              "0.5"
            ]
          },
          "execution_count": 77,
          "metadata": {},
          "output_type": "execute_result"
        }
      ],
      "source": [
        "norm.cdf(1,1)"
      ]
    },
    {
      "cell_type": "code",
      "execution_count": null,
      "id": "7c44c6b3-9ca5-4aa0-888a-5365c39806b4",
      "metadata": {
        "id": "7c44c6b3-9ca5-4aa0-888a-5365c39806b4",
        "outputId": "3b90776b-22bb-4a85-cedd-e8c0bcf386d6"
      },
      "outputs": [
        {
          "data": {
            "text/plain": [
              "0.5"
            ]
          },
          "execution_count": 78,
          "metadata": {},
          "output_type": "execute_result"
        }
      ],
      "source": [
        "norm.cdf(3,3)"
      ]
    },
    {
      "cell_type": "code",
      "execution_count": null,
      "id": "6b3366ff-1aef-4652-98c4-1d340875aa6b",
      "metadata": {
        "id": "6b3366ff-1aef-4652-98c4-1d340875aa6b",
        "outputId": "1f7a97d5-b19c-4f97-cb0c-fe40638af405"
      },
      "outputs": [
        {
          "data": {
            "text/plain": [
              "0.5"
            ]
          },
          "execution_count": 79,
          "metadata": {},
          "output_type": "execute_result"
        }
      ],
      "source": [
        "norm.cdf(5,5)"
      ]
    },
    {
      "cell_type": "markdown",
      "id": "628841a1-0ba2-46b6-8b61-28aa3a48c170",
      "metadata": {
        "id": "628841a1-0ba2-46b6-8b61-28aa3a48c170"
      },
      "source": [
        "### Calculate cumulative probabaility for Z = 1, 3 and 5."
      ]
    },
    {
      "cell_type": "code",
      "execution_count": null,
      "id": "bac9190f-f623-41b9-af16-89dd93c531a2",
      "metadata": {
        "id": "bac9190f-f623-41b9-af16-89dd93c531a2",
        "outputId": "9b0b2a84-9812-4e96-a2e3-0af282c0453f"
      },
      "outputs": [
        {
          "data": {
            "text/plain": [
              "0.8413447460685429"
            ]
          },
          "execution_count": 80,
          "metadata": {},
          "output_type": "execute_result"
        }
      ],
      "source": [
        "norm.cdf(1)"
      ]
    },
    {
      "cell_type": "code",
      "execution_count": null,
      "id": "3d671383-a521-4eee-bd31-57860df754f0",
      "metadata": {
        "id": "3d671383-a521-4eee-bd31-57860df754f0",
        "outputId": "80533d65-7538-4f52-f517-d5337deeb882"
      },
      "outputs": [
        {
          "data": {
            "text/plain": [
              "0.9986501019683699"
            ]
          },
          "execution_count": 81,
          "metadata": {},
          "output_type": "execute_result"
        }
      ],
      "source": [
        "norm.cdf(3)"
      ]
    },
    {
      "cell_type": "code",
      "execution_count": null,
      "id": "0d6144f6-b10d-4135-af02-eeb56e67a3cb",
      "metadata": {
        "id": "0d6144f6-b10d-4135-af02-eeb56e67a3cb",
        "outputId": "0f08d922-e8eb-43c5-fdc7-70a54ce01052"
      },
      "outputs": [
        {
          "data": {
            "text/plain": [
              "0.9999997133484281"
            ]
          },
          "execution_count": 82,
          "metadata": {},
          "output_type": "execute_result"
        }
      ],
      "source": [
        "norm.cdf(5)"
      ]
    },
    {
      "cell_type": "markdown",
      "id": "c616f291-5336-4afe-8751-ed8a3d0707e1",
      "metadata": {
        "id": "c616f291-5336-4afe-8751-ed8a3d0707e1"
      },
      "source": [
        "### Calculate complementary cumulative probabaility for Z = 1, 3 and 5."
      ]
    },
    {
      "cell_type": "code",
      "execution_count": null,
      "id": "0a9b0606-ce1d-4a46-ab70-fff22ba74144",
      "metadata": {
        "id": "0a9b0606-ce1d-4a46-ab70-fff22ba74144",
        "outputId": "4f36738d-7782-4a52-b34e-6382138e8a7e"
      },
      "outputs": [
        {
          "data": {
            "text/plain": [
              "0.15865525393145707"
            ]
          },
          "execution_count": 83,
          "metadata": {},
          "output_type": "execute_result"
        }
      ],
      "source": [
        "norm.cdf(-1)"
      ]
    },
    {
      "cell_type": "code",
      "execution_count": null,
      "id": "73f428d2-5caa-43a3-a6f6-66c46c1a8388",
      "metadata": {
        "id": "73f428d2-5caa-43a3-a6f6-66c46c1a8388",
        "outputId": "1ef59b23-49b2-4e98-ac28-c0489193bc35"
      },
      "outputs": [
        {
          "data": {
            "text/plain": [
              "0.0013498980316300933"
            ]
          },
          "execution_count": 84,
          "metadata": {},
          "output_type": "execute_result"
        }
      ],
      "source": [
        "norm.cdf(-3)"
      ]
    },
    {
      "cell_type": "code",
      "execution_count": null,
      "id": "1e924b56-304f-4145-b549-10003e149d45",
      "metadata": {
        "id": "1e924b56-304f-4145-b549-10003e149d45",
        "outputId": "0ac4e306-af8c-43f4-bc9b-b34b89d944bc"
      },
      "outputs": [
        {
          "data": {
            "text/plain": [
              "2.866515718791933e-07"
            ]
          },
          "execution_count": 85,
          "metadata": {},
          "output_type": "execute_result"
        }
      ],
      "source": [
        "norm.cdf(-5)"
      ]
    },
    {
      "cell_type": "markdown",
      "id": "216a55a6-d0f7-4dbb-b140-1abc962de2f7",
      "metadata": {
        "id": "216a55a6-d0f7-4dbb-b140-1abc962de2f7"
      },
      "source": [
        "### Higgs Discovery Z-Score"
      ]
    },
    {
      "cell_type": "code",
      "execution_count": null,
      "id": "c793705a-55ab-4b88-a9bf-5a4a95434fe0",
      "metadata": {
        "id": "c793705a-55ab-4b88-a9bf-5a4a95434fe0",
        "outputId": "61f2e01c-779b-4f96-9ebb-cdf8e3ac5820"
      },
      "outputs": [
        {
          "data": {
            "text/plain": [
              "0.9999999981824922"
            ]
          },
          "execution_count": 86,
          "metadata": {},
          "output_type": "execute_result"
        }
      ],
      "source": [
        "norm.cdf(5.9) # last question"
      ]
    },
    {
      "cell_type": "markdown",
      "id": "fabe6d32-5d55-4c86-a770-01bc5cd57786",
      "metadata": {
        "id": "fabe6d32-5d55-4c86-a770-01bc5cd57786"
      },
      "source": [
        "#### That is the corresponding p-value"
      ]
    },
    {
      "cell_type": "code",
      "execution_count": null,
      "id": "006e4221-0b99-4141-be8e-fc25de5672a1",
      "metadata": {
        "id": "006e4221-0b99-4141-be8e-fc25de5672a1"
      },
      "outputs": [],
      "source": []
    }
  ],
  "metadata": {
    "kernelspec": {
      "display_name": "Python 3 (ipykernel)",
      "language": "python",
      "name": "python3"
    },
    "language_info": {
      "codemirror_mode": {
        "name": "ipython",
        "version": 3
      },
      "file_extension": ".py",
      "mimetype": "text/x-python",
      "name": "python",
      "nbconvert_exporter": "python",
      "pygments_lexer": "ipython3",
      "version": "3.9.7"
    },
    "colab": {
      "provenance": [],
      "collapsed_sections": [],
      "include_colab_link": true
    }
  },
  "nbformat": 4,
  "nbformat_minor": 5
}